{
 "cells": [
  {
   "cell_type": "markdown",
   "metadata": {},
   "source": [
    "# Creation of the dataset"
   ]
  },
  {
   "cell_type": "markdown",
   "metadata": {},
   "source": [
    "You need to downlad the publicly available NIH dataset, \"cell_images.zip\" and put it in your directory https://lhncbc.nlm.nih.gov/publication/pub9932"
   ]
  },
  {
   "cell_type": "code",
   "execution_count": 2,
   "metadata": {},
   "outputs": [],
   "source": [
    "from imutils import paths\n",
    "import pandas as pd \n",
    "import numpy as np\n",
    "import random\n",
    "import shutil\n",
    "import glob\n",
    "import os\n",
    "\n",
    "\n",
    "IMAGE_DIR='./cell_images/*/*.png'\n",
    "# initialize the base path to the *new* directory that will contain\n",
    "# our images after computing the training and testing split\n",
    "BASE_PATH = \"malaria\"\n",
    "# derive the training, validation, and testing directories\n",
    "TRAIN_PATH = os.path.sep.join([BASE_PATH, \"training\"])\n",
    "VAL_PATH = os.path.sep.join([BASE_PATH, \"validation\"])\n",
    "TEST_PATH = os.path.sep.join([BASE_PATH, \"testing\"])\n",
    "# define the amount of data that will be used training\n",
    "TRAIN_SPLIT = 0.8\n",
    "# the amount of validation data will be a percentage of the\n",
    "# *training* data\n",
    "VAL_SPLIT = 0.1"
   ]
  },
  {
   "cell_type": "code",
   "execution_count": 3,
   "metadata": {},
   "outputs": [],
   "source": [
    "# open csv containing name of misclassified data files\n",
    "\n",
    "df = pd.read_csv('./All_images.csv')\n",
    "false_par = df['False_parasitized'].dropna().values\n",
    "false_un = df['False_uninfected'].dropna().values\n",
    "false_labels = np.append(false_par,false_un)"
   ]
  },
  {
   "cell_type": "code",
   "execution_count": 4,
   "metadata": {},
   "outputs": [
    {
     "name": "stdout",
     "output_type": "stream",
     "text": [
      "Nb images after removals:  26229\n"
     ]
    }
   ],
   "source": [
    "# remove mislcassified data \n",
    "\n",
    "imagePaths = glob.glob(IMAGE_DIR)\n",
    "for image_path in imagePaths:\n",
    "    image_name = image_path.split('/')[-1]\n",
    "    if image_name in false_labels :\n",
    "        imagePaths.remove(image_path)\n",
    "print('Nb images after removals: ', len(imagePaths))"
   ]
  },
  {
   "cell_type": "markdown",
   "metadata": {},
   "source": [
    "## Creation of a training,validation and testing set "
   ]
  },
  {
   "cell_type": "code",
   "execution_count": 5,
   "metadata": {},
   "outputs": [],
   "source": [
    "\n",
    "random.seed(7)\n",
    "random.shuffle(imagePaths)\n",
    "\n",
    "# compute the training and testing split\n",
    "i = int(len(imagePaths) * TRAIN_SPLIT)\n",
    "trainPaths = imagePaths[:i]\n",
    "testPaths = imagePaths[i:]\n",
    "# we'll be using part of the training data for validation\n",
    "i = int(len(trainPaths) * VAL_SPLIT)\n",
    "valPaths = trainPaths[:i]\n",
    "trainPaths = trainPaths[i:]\n",
    "\n",
    "# define the datasets that we'll be building\n",
    "datasets = [\n",
    "    (\"training\", trainPaths, TRAIN_PATH),\n",
    "    (\"validation\", valPaths, VAL_PATH),\n",
    "    (\"testing\", testPaths, TEST_PATH)\n",
    "]"
   ]
  },
  {
   "cell_type": "markdown",
   "metadata": {},
   "source": [
    "## Saving the data under the new directory"
   ]
  },
  {
   "cell_type": "code",
   "execution_count": 6,
   "metadata": {},
   "outputs": [
    {
     "name": "stdout",
     "output_type": "stream",
     "text": [
      "[INFO] building 'training' split\n",
      "[INFO] 'creating malaria_new3/training' directory\n",
      "[INFO] 'creating malaria_new3/training/Parasitized' directory\n",
      "[INFO] 'creating malaria_new3/training/Uninfected' directory\n",
      "[INFO] building 'validation' split\n",
      "[INFO] 'creating malaria_new3/validation' directory\n",
      "[INFO] 'creating malaria_new3/validation/Parasitized' directory\n",
      "[INFO] 'creating malaria_new3/validation/Uninfected' directory\n",
      "[INFO] building 'testing' split\n",
      "[INFO] 'creating malaria_new3/testing' directory\n",
      "[INFO] 'creating malaria_new3/testing/Uninfected' directory\n",
      "[INFO] 'creating malaria_new3/testing/Parasitized' directory\n"
     ]
    }
   ],
   "source": [
    "# loop over the datasets\n",
    "for (dType, imagePaths, baseOutput) in datasets:\n",
    "    # show which data split we are creating\n",
    "    print(\"[INFO] building '{}' split\".format(dType))\n",
    "    # if the output base output directory does not exist, create it\n",
    "    if not os.path.exists(baseOutput):\n",
    "        print(\"[INFO] 'creating {}' directory\".format(baseOutput))\n",
    "        os.makedirs(baseOutput)\n",
    "    # loop over the input image paths\n",
    "    for inputPath in imagePaths:\n",
    "        # extract the filename of the input image along with its\n",
    "        # corresponding class label\n",
    "        filename = inputPath.split(os.path.sep)[-1]\n",
    "        label = inputPath.split(os.path.sep)[-2]\n",
    "        # build the path to the label directory\n",
    "        labelPath = os.path.sep.join([baseOutput, label])\n",
    "        # if the label output directory does not exist, create it\n",
    "        if not os.path.exists(labelPath):\n",
    "                print(\"[INFO] 'creating {}' directory\".format(labelPath))\n",
    "                os.makedirs(labelPath)\n",
    "        # construct the path to the destination image and then copy\n",
    "        # the image itself\n",
    "        p = os.path.sep.join([labelPath, filename])\n",
    "        shutil.copy2(inputPath, p)"
   ]
  },
  {
   "cell_type": "code",
   "execution_count": 7,
   "metadata": {},
   "outputs": [
    {
     "name": "stdout",
     "output_type": "stream",
     "text": [
      "9389\n",
      "9496\n",
      "1067\n",
      "1031\n",
      "2709\n",
      "2537\n"
     ]
    }
   ],
   "source": [
    "print(len(glob.glob(BASE_PATH + '/training/Parasitized/*.png')))\n",
    "print(len(glob.glob(BASE_PATH +'/training/Uninfected/*.png')))\n",
    "print(len(glob.glob(BASE_PATH +'/validation/Parasitized/*.png')))\n",
    "print(len(glob.glob(BASE_PATH +'/validation/Uninfected/*.png')))\n",
    "print(len(glob.glob(BASE_PATH +'/testing/Parasitized/*.png')))\n",
    "print(len(glob.glob(BASE_PATH +'/testing/Uninfected/*.png')))"
   ]
  }
 ],
 "metadata": {
  "kernelspec": {
   "display_name": "Python 3",
   "language": "python",
   "name": "python3"
  },
  "language_info": {
   "codemirror_mode": {
    "name": "ipython",
    "version": 3
   },
   "file_extension": ".py",
   "mimetype": "text/x-python",
   "name": "python",
   "nbconvert_exporter": "python",
   "pygments_lexer": "ipython3",
   "version": "3.7.1"
  }
 },
 "nbformat": 4,
 "nbformat_minor": 2
}
